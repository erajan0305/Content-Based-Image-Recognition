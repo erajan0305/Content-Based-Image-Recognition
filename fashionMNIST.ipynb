{
  "nbformat": 4,
  "nbformat_minor": 0,
  "metadata": {
    "colab": {
      "name": "fashionMNIST.ipynb",
      "version": "0.3.2",
      "provenance": [],
      "collapsed_sections": []
    },
    "kernelspec": {
      "name": "python3",
      "display_name": "Python 3"
    },
    "accelerator": "GPU"
  },
  "cells": [
    {
      "cell_type": "code",
      "metadata": {
        "id": "F82gCB2ol0w6",
        "colab_type": "code",
        "outputId": "c9de5bcc-e470-4c26-eba6-17f14f94df50",
        "colab": {
          "base_uri": "https://localhost:8080/",
          "height": 144
        }
      },
      "source": [
        "from google.colab import drive\n",
        "\n",
        "# This will prompt for authorization.\n",
        "drive.mount('/content/drive')\n",
        "print('Drive Mounted')"
      ],
      "execution_count": 0,
      "outputs": [
        {
          "output_type": "stream",
          "text": [
            "Go to this URL in a browser: https://accounts.google.com/o/oauth2/auth?client_id=947318989803-6bn6qk8qdgf4n4g3pfee6491hc0brc4i.apps.googleusercontent.com&redirect_uri=urn%3Aietf%3Awg%3Aoauth%3A2.0%3Aoob&scope=email%20https%3A%2F%2Fwww.googleapis.com%2Fauth%2Fdocs.test%20https%3A%2F%2Fwww.googleapis.com%2Fauth%2Fdrive%20https%3A%2F%2Fwww.googleapis.com%2Fauth%2Fdrive.photos.readonly%20https%3A%2F%2Fwww.googleapis.com%2Fauth%2Fpeopleapi.readonly&response_type=code\n",
            "\n",
            "Enter your authorization code:\n",
            "··········\n",
            "Mounted at /content/drive\n",
            "Drive Mounted\n"
          ],
          "name": "stdout"
        }
      ]
    },
    {
      "cell_type": "code",
      "metadata": {
        "colab_type": "code",
        "outputId": "ec9bb5c8-c7e3-400e-b493-6697608b0d4e",
        "id": "w41oEqRfnETI",
        "colab": {
          "base_uri": "https://localhost:8080/",
          "height": 141
        }
      },
      "source": [
        "import numpy as np # linear algebra\n",
        "import pandas as pd # data processing, CSV file I/O (e.g. pd.read_csv)\n",
        "from keras.models import Sequential\n",
        "from keras.layers import Dense\n",
        "from keras.layers import Dropout\n",
        "from keras.layers import Flatten\n",
        "from sklearn.preprocessing import LabelEncoder,OneHotEncoder\n",
        "from keras import backend as K\n",
        "from keras.models import Sequential\n",
        "from keras.layers.core import Dense, Dropout, Activation, Flatten\n",
        "from keras.layers.convolutional import Convolution2D, MaxPooling2D\n",
        "\n",
        "from keras.optimizers import adam\n",
        "from keras.models import Model\n",
        "from keras.layers import merge,core\n",
        "from keras.engine.topology import Input\n",
        "from keras.layers.normalization import BatchNormalization\n",
        "\n",
        "from subprocess import check_output\n",
        "print(check_output([\"ls\", \"drive/My Drive/FashionMnist\"]).decode(\"utf8\"))\n",
        "K.set_image_dim_ordering('th')"
      ],
      "execution_count": 0,
      "outputs": [
        {
          "output_type": "stream",
          "text": [
            "fashion-mnist_test.csv\n",
            "fashion-mnist_train.csv\n",
            "t10k-images-idx3-ubyte\n",
            "t10k-labels-idx1-ubyte\n",
            "train-images-idx3-ubyte\n",
            "train-labels-idx1-ubyte\n",
            "\n"
          ],
          "name": "stdout"
        }
      ]
    },
    {
      "cell_type": "code",
      "metadata": {
        "id": "K9ou1d5FohdC",
        "colab_type": "code",
        "colab": {}
      },
      "source": [
        "train = pd.read_csv(\"drive/My Drive/FashionMnist/fashion-mnist_train.csv\").values\n",
        "test  = pd.read_csv(\"drive/My Drive/FashionMnist/fashion-mnist_test.csv\").values"
      ],
      "execution_count": 0,
      "outputs": []
    },
    {
      "cell_type": "code",
      "metadata": {
        "id": "Fgp2EGOQo6u3",
        "colab_type": "code",
        "outputId": "4c8719c5-dd05-4259-e2e3-fc64b45ea0a7",
        "colab": {
          "base_uri": "https://localhost:8080/",
          "height": 88
        }
      },
      "source": [
        "# Reshape and normalize training data\n",
        "trainX = train[:, 1:].reshape(train.shape[0],1,28, 28).astype( 'float32' )\n",
        "\n",
        "X_train1=trainX/255.0\n",
        "X_train=X_train1[:,:,:,:]\n",
        "y_train=train[:,0]\n",
        "\n",
        "\n",
        "print(\"Xtrain.shape\",X_train.shape)\n",
        "print(\"ytrain.shape\",y_train.shape)\n",
        "\n",
        "\n",
        "# Reshape and normalize test data\n",
        "testX = test[:,1:].reshape(test.shape[0],1, 28, 28).astype( 'float32' )\n",
        "X_test = testX / 255.0\n",
        "\n",
        "y_test = test[:,0]\n",
        "print(\"Xtest.shape\",X_test.shape)\n",
        "print(\"ytest.shape\",y_test.shape)"
      ],
      "execution_count": 0,
      "outputs": [
        {
          "output_type": "stream",
          "text": [
            "Xtrain.shape (60000, 1, 28, 28)\n",
            "ytrain.shape (60000,)\n",
            "Xtest.shape (10000, 1, 28, 28)\n",
            "ytest.shape (10000,)\n"
          ],
          "name": "stdout"
        }
      ]
    },
    {
      "cell_type": "code",
      "metadata": {
        "id": "tJ9xLa9mphab",
        "colab_type": "code",
        "colab": {}
      },
      "source": [
        "#One-Hot Encoding the Label to Output\n",
        "from sklearn import preprocessing\n",
        "lb = preprocessing.LabelBinarizer()\n",
        "y_train = lb.fit_transform(y_train)\n",
        "y_test = lb.fit_transform(y_test)"
      ],
      "execution_count": 0,
      "outputs": []
    },
    {
      "cell_type": "code",
      "metadata": {
        "id": "YUs2Mlzjp05K",
        "colab_type": "code",
        "outputId": "8d0454e4-ce61-4855-df87-6488cd59b368",
        "colab": {
          "base_uri": "https://localhost:8080/",
          "height": 1086
        }
      },
      "source": [
        "model = Sequential()\n",
        "\n",
        "#model.add(Convolution2D(32, (3, 3), activation='relu', input_shape=(1,28,28), data_format='channels_first'))\n",
        "\n",
        "model.add(Convolution2D(16, (3,3), border_mode='valid',input_shape=(1,28,28))) #1st\n",
        "model.add(Activation('relu'))\n",
        "model.add(BatchNormalization(axis=2))\n",
        "model.add(Convolution2D(16, (3, 3))) # 2nd\n",
        "model.add(Activation('relu'))\n",
        "model.add(BatchNormalization(axis=2))\n",
        "model.add(MaxPooling2D(pool_size=(2, 2)))\n",
        "model.add(Dropout(0.2))\n",
        "\n",
        "model.add(Convolution2D(32, (3,3),border_mode='valid')) #1st\n",
        "model.add(Activation('relu'))\n",
        "model.add(BatchNormalization(axis=2))\n",
        "model.add(Convolution2D(32, (3, 3))) # 2nd\n",
        "model.add(Activation('relu'))\n",
        "model.add(BatchNormalization(axis=2))\n",
        "model.add(MaxPooling2D(pool_size=(2, 2)))\n",
        "model.add(Dropout(0.2))\n",
        "\n",
        "\"\"\"model.add(Convolution2D(64, (3,3), data_format='channels_first')) #3rd\n",
        "model.add(Activation('relu'))\n",
        "model.add(BatchNormalization(axis=2))\n",
        "model.add(Convolution2D(64, (3,3), data_format='channels_first')) #4th\n",
        "model.add(Activation('relu'))\n",
        "model.add(BatchNormalization(axis=2))\n",
        "model.add(MaxPooling2D(pool_size=(2, 2))) \n",
        "model.add(Dropout(0.2))\n",
        "          \n",
        "model.add(Convolution2D(128, (3,3),data_format='channels_first')) #5th\n",
        "model.add(Activation('relu'))\n",
        "model.add(BatchNormalization(axis=2))\n",
        "model.add(Convolution2D(128, (3, 3),data_format='channels_first')) #6th\n",
        "model.add(Activation('relu'))\n",
        "model.add(BatchNormalization(axis=2))\n",
        "model.add(MaxPooling2D(pool_size=(2, 2)))\n",
        "model.add(Dropout(0.2))\"\"\"\n",
        "\n",
        "\n",
        "\n",
        "model.add(Flatten())\n",
        "model.add(Dense(128))\n",
        "model.add(Activation('relu'))\n",
        "model.add(Dense(64))\n",
        "model.add(Activation('relu'))\n",
        "model.add(Dropout(0.2))\n",
        "model.add(Dense(10))\n",
        "model.add(Activation('softmax'))\n",
        "\n",
        "\n",
        "\n",
        "model.compile(loss='categorical_crossentropy', optimizer='adam',metrics=[\"accuracy\"])\n",
        "model.summary()"
      ],
      "execution_count": 0,
      "outputs": [
        {
          "output_type": "stream",
          "text": [
            "/usr/local/lib/python3.6/dist-packages/ipykernel_launcher.py:5: UserWarning: Update your `Conv2D` call to the Keras 2 API: `Conv2D(16, (3, 3), input_shape=(1, 28, 28..., padding=\"valid\")`\n",
            "  \"\"\"\n",
            "/usr/local/lib/python3.6/dist-packages/ipykernel_launcher.py:14: UserWarning: Update your `Conv2D` call to the Keras 2 API: `Conv2D(32, (3, 3), padding=\"valid\")`\n",
            "  \n"
          ],
          "name": "stderr"
        },
        {
          "output_type": "stream",
          "text": [
            "_________________________________________________________________\n",
            "Layer (type)                 Output Shape              Param #   \n",
            "=================================================================\n",
            "conv2d_5 (Conv2D)            (None, 16, 26, 26)        160       \n",
            "_________________________________________________________________\n",
            "activation_8 (Activation)    (None, 16, 26, 26)        0         \n",
            "_________________________________________________________________\n",
            "batch_normalization_5 (Batch (None, 16, 26, 26)        104       \n",
            "_________________________________________________________________\n",
            "conv2d_6 (Conv2D)            (None, 16, 24, 24)        2320      \n",
            "_________________________________________________________________\n",
            "activation_9 (Activation)    (None, 16, 24, 24)        0         \n",
            "_________________________________________________________________\n",
            "batch_normalization_6 (Batch (None, 16, 24, 24)        96        \n",
            "_________________________________________________________________\n",
            "max_pooling2d_3 (MaxPooling2 (None, 16, 12, 12)        0         \n",
            "_________________________________________________________________\n",
            "dropout_4 (Dropout)          (None, 16, 12, 12)        0         \n",
            "_________________________________________________________________\n",
            "conv2d_7 (Conv2D)            (None, 32, 10, 10)        4640      \n",
            "_________________________________________________________________\n",
            "activation_10 (Activation)   (None, 32, 10, 10)        0         \n",
            "_________________________________________________________________\n",
            "batch_normalization_7 (Batch (None, 32, 10, 10)        40        \n",
            "_________________________________________________________________\n",
            "conv2d_8 (Conv2D)            (None, 32, 8, 8)          9248      \n",
            "_________________________________________________________________\n",
            "activation_11 (Activation)   (None, 32, 8, 8)          0         \n",
            "_________________________________________________________________\n",
            "batch_normalization_8 (Batch (None, 32, 8, 8)          32        \n",
            "_________________________________________________________________\n",
            "max_pooling2d_4 (MaxPooling2 (None, 32, 4, 4)          0         \n",
            "_________________________________________________________________\n",
            "dropout_5 (Dropout)          (None, 32, 4, 4)          0         \n",
            "_________________________________________________________________\n",
            "flatten_2 (Flatten)          (None, 512)               0         \n",
            "_________________________________________________________________\n",
            "dense_4 (Dense)              (None, 128)               65664     \n",
            "_________________________________________________________________\n",
            "activation_12 (Activation)   (None, 128)               0         \n",
            "_________________________________________________________________\n",
            "dense_5 (Dense)              (None, 64)                8256      \n",
            "_________________________________________________________________\n",
            "activation_13 (Activation)   (None, 64)                0         \n",
            "_________________________________________________________________\n",
            "dropout_6 (Dropout)          (None, 64)                0         \n",
            "_________________________________________________________________\n",
            "dense_6 (Dense)              (None, 10)                650       \n",
            "_________________________________________________________________\n",
            "activation_14 (Activation)   (None, 10)                0         \n",
            "=================================================================\n",
            "Total params: 91,210\n",
            "Trainable params: 91,074\n",
            "Non-trainable params: 136\n",
            "_________________________________________________________________\n"
          ],
          "name": "stdout"
        }
      ]
    },
    {
      "cell_type": "code",
      "metadata": {
        "id": "dg0mdzz2sMwE",
        "colab_type": "code",
        "outputId": "429aa52b-e077-48d9-86a3-6ae530107776",
        "colab": {
          "base_uri": "https://localhost:8080/",
          "height": 1475
        }
      },
      "source": [
        "from keras import callbacks\n",
        "checkpointer = callbacks.ModelCheckpoint(filepath='drive/My Drive/COLAB Programs/fashionMNIST/_best_weights.h5', verbose=1, monitor='loss', mode='auto', save_best_only=True)\n",
        "model.fit(X_train, y_train,\n",
        "          epochs=20,\n",
        "          verbose=1, callbacks=[checkpointer])\n",
        "score = model.evaluate(X_test, y_test, batch_size=128)\n",
        "print(\"Score\",score)\n",
        "model.save(\"drive/My Drive/COLAB Programs/fashionMNIST/model.hdf5\")\n"
      ],
      "execution_count": 0,
      "outputs": [
        {
          "output_type": "stream",
          "text": [
            "Epoch 1/20\n",
            "60000/60000 [==============================] - 38s 635us/step - loss: 0.5335 - acc: 0.8066\n",
            "\n",
            "Epoch 00001: loss improved from inf to 0.53351, saving model to _best_weights.h5\n",
            "Epoch 2/20\n",
            "60000/60000 [==============================] - 36s 604us/step - loss: 0.3501 - acc: 0.8726\n",
            "\n",
            "Epoch 00002: loss improved from 0.53351 to 0.35009, saving model to _best_weights.h5\n",
            "Epoch 3/20\n",
            "60000/60000 [==============================] - 36s 602us/step - loss: 0.3013 - acc: 0.8910\n",
            "\n",
            "Epoch 00003: loss improved from 0.35009 to 0.30126, saving model to _best_weights.h5\n",
            "Epoch 4/20\n",
            "60000/60000 [==============================] - 36s 604us/step - loss: 0.2742 - acc: 0.9014\n",
            "\n",
            "Epoch 00004: loss improved from 0.30126 to 0.27420, saving model to _best_weights.h5\n",
            "Epoch 5/20\n",
            "60000/60000 [==============================] - 36s 606us/step - loss: 0.2509 - acc: 0.9098\n",
            "\n",
            "Epoch 00005: loss improved from 0.27420 to 0.25087, saving model to _best_weights.h5\n",
            "Epoch 6/20\n",
            "60000/60000 [==============================] - 37s 608us/step - loss: 0.2372 - acc: 0.9137\n",
            "\n",
            "Epoch 00006: loss improved from 0.25087 to 0.23722, saving model to _best_weights.h5\n",
            "Epoch 7/20\n",
            "60000/60000 [==============================] - 37s 609us/step - loss: 0.2257 - acc: 0.9174\n",
            "\n",
            "Epoch 00007: loss improved from 0.23722 to 0.22574, saving model to _best_weights.h5\n",
            "Epoch 8/20\n",
            "60000/60000 [==============================] - 37s 613us/step - loss: 0.2137 - acc: 0.9224\n",
            "\n",
            "Epoch 00008: loss improved from 0.22574 to 0.21372, saving model to _best_weights.h5\n",
            "Epoch 9/20\n",
            "60000/60000 [==============================] - 37s 615us/step - loss: 0.2067 - acc: 0.9241\n",
            "\n",
            "Epoch 00009: loss improved from 0.21372 to 0.20672, saving model to _best_weights.h5\n",
            "Epoch 10/20\n",
            "60000/60000 [==============================] - 37s 614us/step - loss: 0.1972 - acc: 0.9273\n",
            "\n",
            "Epoch 00010: loss improved from 0.20672 to 0.19724, saving model to _best_weights.h5\n",
            "Epoch 11/20\n",
            "60000/60000 [==============================] - 37s 610us/step - loss: 0.1935 - acc: 0.9288\n",
            "\n",
            "Epoch 00011: loss improved from 0.19724 to 0.19355, saving model to _best_weights.h5\n",
            "Epoch 12/20\n",
            "60000/60000 [==============================] - 36s 607us/step - loss: 0.1843 - acc: 0.9309\n",
            "\n",
            "Epoch 00012: loss improved from 0.19355 to 0.18428, saving model to _best_weights.h5\n",
            "Epoch 13/20\n",
            "60000/60000 [==============================] - 36s 605us/step - loss: 0.1804 - acc: 0.9326\n",
            "\n",
            "Epoch 00013: loss improved from 0.18428 to 0.18043, saving model to _best_weights.h5\n",
            "Epoch 14/20\n",
            "60000/60000 [==============================] - 37s 609us/step - loss: 0.1744 - acc: 0.9361\n",
            "\n",
            "Epoch 00014: loss improved from 0.18043 to 0.17436, saving model to _best_weights.h5\n",
            "Epoch 15/20\n",
            "60000/60000 [==============================] - 36s 607us/step - loss: 0.1691 - acc: 0.9373\n",
            "\n",
            "Epoch 00015: loss improved from 0.17436 to 0.16911, saving model to _best_weights.h5\n",
            "Epoch 16/20\n",
            "60000/60000 [==============================] - 36s 606us/step - loss: 0.1650 - acc: 0.9381\n",
            "\n",
            "Epoch 00016: loss improved from 0.16911 to 0.16505, saving model to _best_weights.h5\n",
            "Epoch 17/20\n",
            "60000/60000 [==============================] - 37s 612us/step - loss: 0.1615 - acc: 0.9402\n",
            "\n",
            "Epoch 00017: loss improved from 0.16505 to 0.16153, saving model to _best_weights.h5\n",
            "Epoch 18/20\n",
            "60000/60000 [==============================] - 36s 605us/step - loss: 0.1542 - acc: 0.9422\n",
            "\n",
            "Epoch 00018: loss improved from 0.16153 to 0.15418, saving model to _best_weights.h5\n",
            "Epoch 19/20\n",
            "60000/60000 [==============================] - 36s 604us/step - loss: 0.1516 - acc: 0.9437\n",
            "\n",
            "Epoch 00019: loss improved from 0.15418 to 0.15155, saving model to _best_weights.h5\n",
            "Epoch 20/20\n",
            "60000/60000 [==============================] - 37s 609us/step - loss: 0.1472 - acc: 0.9449\n",
            "\n",
            "Epoch 00020: loss improved from 0.15155 to 0.14721, saving model to _best_weights.h5\n",
            "10000/10000 [==============================] - 1s 90us/step\n",
            "Score [0.18638661918640137, 0.9355]\n"
          ],
          "name": "stdout"
        }
      ]
    },
    {
      "cell_type": "code",
      "metadata": {
        "id": "1GgdHDXW0xAo",
        "colab_type": "code",
        "outputId": "ad776acd-232b-4651-e93d-c591185c7f75",
        "colab": {
          "base_uri": "https://localhost:8080/",
          "height": 70
        }
      },
      "source": [
        "from PIL import Image\n",
        "import cv2\n",
        "from numpy import genfromtxt\n",
        "\n",
        "temp=X_test[53][0]\n",
        "\n",
        "im=Image.fromarray(temp)\n",
        "im= np.expand_dims(im, axis=0)\n",
        "im= np.expand_dims(im, axis=0)\n",
        "\n",
        "s=model.predict_classes(im)\n",
        "print(\"Predict_Classes\",model.predict_classes(im))\n",
        "print(\"Predict: \",model.predict(im))"
      ],
      "execution_count": 0,
      "outputs": [
        {
          "output_type": "stream",
          "text": [
            "Predict_Classes [3]\n",
            "Predict:  [[1.0531291e-02 2.4761271e-06 2.3721055e-05 9.8785257e-01 5.2752435e-05\n",
            "  4.5150207e-07 1.3730986e-03 3.4634806e-07 1.6323850e-04 1.2874695e-07]]\n"
          ],
          "name": "stdout"
        }
      ]
    },
    {
      "cell_type": "code",
      "metadata": {
        "id": "-hiKy3DzzWhc",
        "colab_type": "code",
        "outputId": "bb308790-4dec-4a2f-f87d-451271ef5d62",
        "colab": {
          "base_uri": "https://localhost:8080/",
          "height": 1233
        }
      },
      "source": [
        "import matplotlib.pyplot as plt\n",
        "from sklearn.metrics import classification_report,confusion_matrix\n",
        "import itertools\n",
        "\n",
        "Y_pred = model.predict(X_test)\n",
        "#print(\"#################################\")\n",
        "#print(\"Y_pred\",Y_pred)\n",
        "y_pred = np.argmax(Y_pred, axis=1)\n",
        "#print(\"y_pred\",y_pred)\n",
        "#print(\"#################################\")\n",
        "y_pred = model.predict_classes(X_test)\n",
        "#print(\"y_pred classes: \",y_pred)\n",
        "target_names = ['0','1','2','3','4','5','6','7','8','9']\n",
        "\t\t\t\t\t\n",
        "print(classification_report(np.argmax(y_test,axis=1), y_pred,target_names=target_names))\n",
        "\n",
        "print(confusion_matrix(np.argmax(y_test,axis=1), y_pred))\n",
        "\n",
        "\n",
        "# Plotting the confusion matrix\n",
        "def plot_confusion_matrix(cm, classes,\n",
        "                          normalize=False,\n",
        "                          title='Confusion matrix',\n",
        "                          cmap=plt.cm.Blues):\n",
        "    \"\"\"\n",
        "    This function prints and plots the confusion matrix.\n",
        "    Normalization can be applied by setting `normalize=True`.\n",
        "    \"\"\"\n",
        "    plt.imshow(cm, interpolation='nearest', cmap=cmap)\n",
        "    plt.title(title)\n",
        "    plt.colorbar()\n",
        "    tick_marks = np.arange(len(classes))\n",
        "    plt.xticks(tick_marks, classes, rotation=45)\n",
        "    plt.yticks(tick_marks, classes)\n",
        "\n",
        "    if normalize:\n",
        "        cm = cm.astype('float') / cm.sum(axis=1)[:, np.newaxis]\n",
        "        print(\"8--Normalized confusion matrix\")\n",
        "    else:\n",
        "        print('8--Confusion matrix, without normalization')\n",
        "\n",
        "    print(\"9\",cm)\n",
        "\n",
        "    thresh = cm.max() / 2.\n",
        "    for i, j in itertools.product(range(cm.shape[0]), range(cm.shape[1])):\n",
        "        plt.text(j, i, cm[i, j],\n",
        "                 horizontalalignment=\"center\",\n",
        "                 color=\"white\" if cm[i, j] > thresh else \"black\")\n",
        "\n",
        "    plt.tight_layout()\n",
        "    plt.ylabel('True label')\n",
        "    plt.xlabel('Predicted label')\n",
        "\n",
        "# Compute confusion matrix\n",
        "cnf_matrix = (confusion_matrix(np.argmax(y_test,axis=1), y_pred))\n",
        "\n",
        "np.set_printoptions(precision=2)\n",
        "\n",
        "plt.figure()\n",
        "\n",
        "# Plot non-normalized confusion matrix\n",
        "plot_confusion_matrix(cnf_matrix, classes=target_names,\n",
        "                      title='Confusion matrix')\n",
        "#plt.figure()\n",
        "# Plot normalized confusion matrix\n",
        "#plot_confusion_matrix(cnf_matrix, classes=target_names, normalize=True,\n",
        "#                      title='Normalized confusion matrix')\n",
        "#plt.figure()\n",
        "plt.show()\n"
      ],
      "execution_count": 0,
      "outputs": [
        {
          "output_type": "stream",
          "text": [
            "Y_pred [[9.99e-01 1.65e-08 5.31e-04 ... 4.11e-12 7.53e-07 1.90e-13]\n",
            " [7.23e-18 1.00e+00 2.70e-18 ... 0.00e+00 1.02e-16 2.80e-34]\n",
            " [7.02e-03 2.95e-09 9.55e-01 ... 9.73e-12 8.52e-07 1.92e-11]\n",
            " ...\n",
            " [6.19e-12 7.86e-20 2.32e-15 ... 2.19e-24 1.00e+00 1.90e-25]\n",
            " [7.01e-07 2.32e-09 2.84e-09 ... 1.66e-14 1.00e+00 4.13e-15]\n",
            " [2.38e-09 1.00e+00 3.99e-09 ... 3.18e-19 2.09e-09 3.40e-18]]\n",
            "y_pred classes:  [0 1 2 ... 8 8 1]\n",
            "              precision    recall  f1-score   support\n",
            "\n",
            "           0       0.87      0.90      0.88      1000\n",
            "           1       0.99      1.00      0.99      1000\n",
            "           2       0.92      0.88      0.90      1000\n",
            "           3       0.94      0.94      0.94      1000\n",
            "           4       0.88      0.94      0.91      1000\n",
            "           5       0.99      0.98      0.99      1000\n",
            "           6       0.83      0.78      0.80      1000\n",
            "           7       0.97      0.97      0.97      1000\n",
            "           8       0.99      0.99      0.99      1000\n",
            "           9       0.97      0.98      0.98      1000\n",
            "\n",
            "   micro avg       0.94      0.94      0.94     10000\n",
            "   macro avg       0.94      0.94      0.94     10000\n",
            "weighted avg       0.94      0.94      0.94     10000\n",
            "\n",
            "[[896   1  17  11   0   0  71   0   4   0]\n",
            " [  0 997   0   2   0   0   1   0   0   0]\n",
            " [ 15   0 881  15  54   0  35   0   0   0]\n",
            " [ 11   4   3 944  23   0  15   0   0   0]\n",
            " [  0   1  18  12 938   0  31   0   0   0]\n",
            " [  0   0   0   0   0 985   0   8   1   6]\n",
            " [109   5  37  21  46   0 778   0   4   0]\n",
            " [  0   0   0   0   0  11   0 967   0  22]\n",
            " [  2   2   0   0   2   0   3   0 991   0]\n",
            " [  0   0   0   0   0   1   0  21   0 978]]\n",
            "8--Confusion matrix, without normalization\n",
            "9 [[896   1  17  11   0   0  71   0   4   0]\n",
            " [  0 997   0   2   0   0   1   0   0   0]\n",
            " [ 15   0 881  15  54   0  35   0   0   0]\n",
            " [ 11   4   3 944  23   0  15   0   0   0]\n",
            " [  0   1  18  12 938   0  31   0   0   0]\n",
            " [  0   0   0   0   0 985   0   8   1   6]\n",
            " [109   5  37  21  46   0 778   0   4   0]\n",
            " [  0   0   0   0   0  11   0 967   0  22]\n",
            " [  2   2   0   0   2   0   3   0 991   0]\n",
            " [  0   0   0   0   0   1   0  21   0 978]]\n"
          ],
          "name": "stdout"
        },
        {
          "output_type": "display_data",
          "data": {
            "image/png": "[encoded data removed]",
            "text/plain": [
              "<Figure size 576x396 with 2 Axes>"
            ]
          },
          "metadata": {
            "tags": []
          }
        }
      ]
    }
  ]
}